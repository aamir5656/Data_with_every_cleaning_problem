{
 "cells": [
  {
   "cell_type": "code",
   "execution_count": 1,
   "id": "bda7382d-36ee-4a32-90ef-d4b598163e93",
   "metadata": {},
   "outputs": [],
   "source": [
    "import pandas as pd\n",
    "import numpy as np \n",
    "import seaborn as sns \n",
    "import matplotlib.pyplot as plt "
   ]
  },
  {
   "cell_type": "code",
   "execution_count": 2,
   "id": "bacb7991-ff87-4f50-b855-1c6762961c2b",
   "metadata": {},
   "outputs": [
    {
     "data": {
      "text/html": [
       "<div>\n",
       "<style scoped>\n",
       "    .dataframe tbody tr th:only-of-type {\n",
       "        vertical-align: middle;\n",
       "    }\n",
       "\n",
       "    .dataframe tbody tr th {\n",
       "        vertical-align: top;\n",
       "    }\n",
       "\n",
       "    .dataframe thead th {\n",
       "        text-align: right;\n",
       "    }\n",
       "</style>\n",
       "<table border=\"1\" class=\"dataframe\">\n",
       "  <thead>\n",
       "    <tr style=\"text-align: right;\">\n",
       "      <th></th>\n",
       "      <th>Student_ID</th>\n",
       "      <th>Gender</th>\n",
       "      <th>Age</th>\n",
       "      <th>Nationality</th>\n",
       "      <th>Province</th>\n",
       "      <th>Program_Level</th>\n",
       "      <th>Department</th>\n",
       "      <th>Year_of_Study</th>\n",
       "      <th>GPA</th>\n",
       "      <th>Attendance_Rate</th>\n",
       "      <th>...</th>\n",
       "      <th>Scholarship_Status</th>\n",
       "      <th>Part_Time_Job</th>\n",
       "      <th>Hostel_Resident</th>\n",
       "      <th>Commute_Time</th>\n",
       "      <th>Transport_Mode</th>\n",
       "      <th>Internet_Access</th>\n",
       "      <th>Library_Usage</th>\n",
       "      <th>Canteen_Quality_Rating</th>\n",
       "      <th>Lab_Equipment_Access</th>\n",
       "      <th>Faculty_Satisfaction</th>\n",
       "    </tr>\n",
       "  </thead>\n",
       "  <tbody>\n",
       "    <tr>\n",
       "      <th>0</th>\n",
       "      <td>PSY0001</td>\n",
       "      <td>Female</td>\n",
       "      <td>23</td>\n",
       "      <td>Afghan</td>\n",
       "      <td>Kabul</td>\n",
       "      <td>Masters</td>\n",
       "      <td>Psychology</td>\n",
       "      <td>1</td>\n",
       "      <td>3.18</td>\n",
       "      <td>92.5</td>\n",
       "      <td>...</td>\n",
       "      <td>Yes</td>\n",
       "      <td>Yes</td>\n",
       "      <td>No</td>\n",
       "      <td>45.0</td>\n",
       "      <td>Bus</td>\n",
       "      <td>No</td>\n",
       "      <td>3</td>\n",
       "      <td>3</td>\n",
       "      <td>Good</td>\n",
       "      <td>5.0</td>\n",
       "    </tr>\n",
       "    <tr>\n",
       "      <th>1</th>\n",
       "      <td>ELE0002</td>\n",
       "      <td>Female</td>\n",
       "      <td>20</td>\n",
       "      <td>Indian</td>\n",
       "      <td>Kerala</td>\n",
       "      <td>Undergraduate</td>\n",
       "      <td>Electrical Engineering</td>\n",
       "      <td>4</td>\n",
       "      <td>2.78</td>\n",
       "      <td>68.1</td>\n",
       "      <td>...</td>\n",
       "      <td>Yes</td>\n",
       "      <td>NaN</td>\n",
       "      <td>No</td>\n",
       "      <td>13.0</td>\n",
       "      <td>Bike</td>\n",
       "      <td>No</td>\n",
       "      <td>4</td>\n",
       "      <td>3</td>\n",
       "      <td>Good</td>\n",
       "      <td>4.0</td>\n",
       "    </tr>\n",
       "    <tr>\n",
       "      <th>2</th>\n",
       "      <td>ELE0003</td>\n",
       "      <td>Female</td>\n",
       "      <td>24</td>\n",
       "      <td>Bangladeshi</td>\n",
       "      <td>Dhaka</td>\n",
       "      <td>Undergraduate</td>\n",
       "      <td>Electrical Engineering</td>\n",
       "      <td>3</td>\n",
       "      <td>3.79</td>\n",
       "      <td>73.4</td>\n",
       "      <td>...</td>\n",
       "      <td>Yes</td>\n",
       "      <td>No</td>\n",
       "      <td>No</td>\n",
       "      <td>15.0</td>\n",
       "      <td>Walk</td>\n",
       "      <td>Yes</td>\n",
       "      <td>5</td>\n",
       "      <td>2</td>\n",
       "      <td>Average</td>\n",
       "      <td>5.0</td>\n",
       "    </tr>\n",
       "    <tr>\n",
       "      <th>3</th>\n",
       "      <td>MAT0004</td>\n",
       "      <td>Female</td>\n",
       "      <td>19</td>\n",
       "      <td>Afghan</td>\n",
       "      <td>Kabul</td>\n",
       "      <td>PhD</td>\n",
       "      <td>Mathematics</td>\n",
       "      <td>4</td>\n",
       "      <td>3.08</td>\n",
       "      <td>83.1</td>\n",
       "      <td>...</td>\n",
       "      <td>Yes</td>\n",
       "      <td>Yes</td>\n",
       "      <td>Yes</td>\n",
       "      <td>58.0</td>\n",
       "      <td>Car</td>\n",
       "      <td>No</td>\n",
       "      <td>3</td>\n",
       "      <td>3</td>\n",
       "      <td>Poor</td>\n",
       "      <td>3.0</td>\n",
       "    </tr>\n",
       "    <tr>\n",
       "      <th>4</th>\n",
       "      <td>BIO0005</td>\n",
       "      <td>Male</td>\n",
       "      <td>22</td>\n",
       "      <td>Indian</td>\n",
       "      <td>Kerala</td>\n",
       "      <td>Masters</td>\n",
       "      <td>Biology</td>\n",
       "      <td>2</td>\n",
       "      <td>3.27</td>\n",
       "      <td>94.6</td>\n",
       "      <td>...</td>\n",
       "      <td>No</td>\n",
       "      <td>No</td>\n",
       "      <td>No</td>\n",
       "      <td>17.0</td>\n",
       "      <td>Car</td>\n",
       "      <td>Yes</td>\n",
       "      <td>1</td>\n",
       "      <td>4</td>\n",
       "      <td>Good</td>\n",
       "      <td>2.0</td>\n",
       "    </tr>\n",
       "  </tbody>\n",
       "</table>\n",
       "<p>5 rows × 25 columns</p>\n",
       "</div>"
      ],
      "text/plain": [
       "  Student_ID  Gender  Age  Nationality Province  Program_Level  \\\n",
       "0    PSY0001  Female   23       Afghan    Kabul        Masters   \n",
       "1    ELE0002  Female   20       Indian   Kerala  Undergraduate   \n",
       "2    ELE0003  Female   24  Bangladeshi    Dhaka  Undergraduate   \n",
       "3    MAT0004  Female   19       Afghan    Kabul            PhD   \n",
       "4    BIO0005    Male   22       Indian   Kerala        Masters   \n",
       "\n",
       "               Department  Year_of_Study   GPA  Attendance_Rate  ...  \\\n",
       "0              Psychology              1  3.18             92.5  ...   \n",
       "1  Electrical Engineering              4  2.78             68.1  ...   \n",
       "2  Electrical Engineering              3  3.79             73.4  ...   \n",
       "3             Mathematics              4  3.08             83.1  ...   \n",
       "4                 Biology              2  3.27             94.6  ...   \n",
       "\n",
       "   Scholarship_Status  Part_Time_Job  Hostel_Resident  Commute_Time  \\\n",
       "0                 Yes            Yes               No          45.0   \n",
       "1                 Yes            NaN               No          13.0   \n",
       "2                 Yes             No               No          15.0   \n",
       "3                 Yes            Yes              Yes          58.0   \n",
       "4                  No             No               No          17.0   \n",
       "\n",
       "   Transport_Mode Internet_Access Library_Usage Canteen_Quality_Rating  \\\n",
       "0             Bus              No             3                      3   \n",
       "1            Bike              No             4                      3   \n",
       "2            Walk             Yes             5                      2   \n",
       "3             Car              No             3                      3   \n",
       "4             Car             Yes             1                      4   \n",
       "\n",
       "   Lab_Equipment_Access Faculty_Satisfaction  \n",
       "0                  Good                  5.0  \n",
       "1                  Good                  4.0  \n",
       "2               Average                  5.0  \n",
       "3                  Poor                  3.0  \n",
       "4                  Good                  2.0  \n",
       "\n",
       "[5 rows x 25 columns]"
      ]
     },
     "execution_count": 2,
     "metadata": {},
     "output_type": "execute_result"
    }
   ],
   "source": [
    "dataset = pd.read_csv(r\"C:\\Users\\Aamir Shahzad\\OneDrive\\Desktop\\realistic_student_dataset_updated.csv\")\n",
    "dataset.head()"
   ]
  },
  {
   "cell_type": "code",
   "execution_count": 3,
   "id": "ea81cfa9-de79-422f-ba3a-a9d9b35825b9",
   "metadata": {},
   "outputs": [
    {
     "data": {
      "text/plain": [
       "(1000, 25)"
      ]
     },
     "execution_count": 3,
     "metadata": {},
     "output_type": "execute_result"
    }
   ],
   "source": [
    "dataset.shape"
   ]
  },
  {
   "cell_type": "code",
   "execution_count": 4,
   "id": "01093001-dced-4c5e-8f4a-1deb78240ddb",
   "metadata": {},
   "outputs": [
    {
     "data": {
      "text/plain": [
       "Student_ID                27\n",
       "Gender                     0\n",
       "Age                        0\n",
       "Nationality                0\n",
       "Province                  20\n",
       "Program_Level              0\n",
       "Department                34\n",
       "Year_of_Study              0\n",
       "GPA                        0\n",
       "Attendance_Rate            0\n",
       "Mental_Health_Score        0\n",
       "Stress_Level               0\n",
       "Sleep_Hours                0\n",
       "Study_Hours                0\n",
       "Monthly_Expenses           0\n",
       "Scholarship_Status         0\n",
       "Part_Time_Job             16\n",
       "Hostel_Resident            0\n",
       "Commute_Time              18\n",
       "Transport_Mode             0\n",
       "Internet_Access            0\n",
       "Library_Usage              0\n",
       "Canteen_Quality_Rating     0\n",
       "Lab_Equipment_Access      15\n",
       "Faculty_Satisfaction      19\n",
       "dtype: int64"
      ]
     },
     "execution_count": 4,
     "metadata": {},
     "output_type": "execute_result"
    }
   ],
   "source": [
    "dataset.isnull().sum()"
   ]
  },
  {
   "cell_type": "code",
   "execution_count": 5,
   "id": "290ac7ad-56bd-4b38-9777-bf8a14d60ab4",
   "metadata": {},
   "outputs": [
    {
     "name": "stdout",
     "output_type": "stream",
     "text": [
      "<class 'pandas.core.frame.DataFrame'>\n",
      "RangeIndex: 1000 entries, 0 to 999\n",
      "Data columns (total 25 columns):\n",
      " #   Column                  Non-Null Count  Dtype  \n",
      "---  ------                  --------------  -----  \n",
      " 0   Student_ID              973 non-null    object \n",
      " 1   Gender                  1000 non-null   object \n",
      " 2   Age                     1000 non-null   int64  \n",
      " 3   Nationality             1000 non-null   object \n",
      " 4   Province                980 non-null    object \n",
      " 5   Program_Level           1000 non-null   object \n",
      " 6   Department              966 non-null    object \n",
      " 7   Year_of_Study           1000 non-null   int64  \n",
      " 8   GPA                     1000 non-null   float64\n",
      " 9   Attendance_Rate         1000 non-null   float64\n",
      " 10  Mental_Health_Score     1000 non-null   int64  \n",
      " 11  Stress_Level            1000 non-null   int64  \n",
      " 12  Sleep_Hours             1000 non-null   int64  \n",
      " 13  Study_Hours             1000 non-null   int64  \n",
      " 14  Monthly_Expenses        1000 non-null   int64  \n",
      " 15  Scholarship_Status      1000 non-null   object \n",
      " 16  Part_Time_Job           984 non-null    object \n",
      " 17  Hostel_Resident         1000 non-null   object \n",
      " 18  Commute_Time            982 non-null    float64\n",
      " 19  Transport_Mode          1000 non-null   object \n",
      " 20  Internet_Access         1000 non-null   object \n",
      " 21  Library_Usage           1000 non-null   int64  \n",
      " 22  Canteen_Quality_Rating  1000 non-null   int64  \n",
      " 23  Lab_Equipment_Access    985 non-null    object \n",
      " 24  Faculty_Satisfaction    981 non-null    float64\n",
      "dtypes: float64(4), int64(9), object(12)\n",
      "memory usage: 195.4+ KB\n"
     ]
    }
   ],
   "source": [
    "# Show dataset structure and data types\n",
    "dataset.info()"
   ]
  },
  {
   "cell_type": "code",
   "execution_count": 6,
   "id": "05761710-ef0f-45f8-b0f8-cf9a0c4457e4",
   "metadata": {},
   "outputs": [],
   "source": [
    "# First, we fix column names for consistency \n",
    "dataset.columns = dataset.columns.str.strip()"
   ]
  },
  {
   "cell_type": "code",
   "execution_count": 7,
   "id": "df9fce6d-fc1d-490e-be10-c7df8e1d9783",
   "metadata": {},
   "outputs": [],
   "source": [
    "# Remove rows with null Student_ID  required for unique identification  \n",
    "dataset = dataset.dropna(subset = [\"Student_ID\"])"
   ]
  },
  {
   "cell_type": "code",
   "execution_count": 8,
   "id": "f6be0d97-7622-425f-a896-d0042d48aef0",
   "metadata": {},
   "outputs": [
    {
     "data": {
      "text/plain": [
       "(973, 25)"
      ]
     },
     "execution_count": 8,
     "metadata": {},
     "output_type": "execute_result"
    }
   ],
   "source": [
    "dataset.shape"
   ]
  },
  {
   "cell_type": "code",
   "execution_count": 9,
   "id": "a95e8576-81aa-4987-a4c8-9391f873cba8",
   "metadata": {},
   "outputs": [
    {
     "data": {
      "text/plain": [
       "Province\n",
       "Dhaka          138\n",
       "Punjab         137\n",
       "Kabul          132\n",
       "Herat          132\n",
       "Chittagong      99\n",
       "Kerala          72\n",
       "KPK             66\n",
       "Sindh           64\n",
       "Balochistan     59\n",
       "Delhi           54\n",
       "Sinnd            1\n",
       "Name: count, dtype: int64"
      ]
     },
     "execution_count": 9,
     "metadata": {},
     "output_type": "execute_result"
    }
   ],
   "source": [
    "dataset['Province'].value_counts()"
   ]
  },
  {
   "cell_type": "code",
   "execution_count": 10,
   "id": "88253a4f-3427-4879-bf6f-b0d6ac1c8bea",
   "metadata": {},
   "outputs": [],
   "source": [
    "# New mapping: Nationality to most realistic Province\n",
    "province_map = {\n",
    "    \"Pakistani\": \"Punjab\",         \n",
    "    \"Indian\": \"Delhi\",             \n",
    "    \"Bangladeshi\": \"Dhaka\",        \n",
    "    \"Afghan\": \"Kabul\"              \n",
    "}\n",
    "\n",
    "# Fill Province where it's null based on Nationality\n",
    "dataset.loc[dataset[\"Province\"].isnull(), \"Province\"] = dataset.loc[dataset[\"Province\"].isnull(), \"Nationality\"].map(province_map)"
   ]
  },
  {
   "cell_type": "code",
   "execution_count": 11,
   "id": "f9ebb584-59ca-44dd-a304-ffb8fcc6eb44",
   "metadata": {},
   "outputs": [
    {
     "data": {
      "text/plain": [
       "Department\n",
       "Psychology                168\n",
       "Computer Science          166\n",
       "Biology                   164\n",
       "Business                  151\n",
       "Mathematics               149\n",
       "Electrical Engineering    141\n",
       "Compuer Science             1\n",
       "Name: count, dtype: int64"
      ]
     },
     "execution_count": 11,
     "metadata": {},
     "output_type": "execute_result"
    }
   ],
   "source": [
    "dataset['Department'].value_counts()"
   ]
  },
  {
   "cell_type": "code",
   "execution_count": 12,
   "id": "b0976d0d-ce49-42d8-af77-a461bde5e175",
   "metadata": {},
   "outputs": [],
   "source": [
    "# Dept prefix dictionary\n",
    "dept_prefix = {\n",
    "    'BIO': 'Biology',\n",
    "    'PSY': 'Psychology',\n",
    "    'ELE': 'Electrical Engineering',\n",
    "    'MAT': 'Mathematics',\n",
    "    'BUS': 'Business',\n",
    "    'COM': 'Computer Science',\n",
    "}\n"
   ]
  },
  {
   "cell_type": "code",
   "execution_count": 13,
   "id": "70aaa565-e921-47d4-a27d-c72ab444cf2c",
   "metadata": {},
   "outputs": [],
   "source": [
    "null_val = dataset['Department'].isnull()\n",
    "\n",
    "# Apply prefix mapping only on null rows\n",
    "dataset.loc[null_val, 'Department'] = dataset.loc[null_val, 'Student_ID'].str[:3].map(dept_prefix)"
   ]
  },
  {
   "cell_type": "code",
   "execution_count": 14,
   "id": "43384459-9606-4c2d-b36c-a94fa299ffbe",
   "metadata": {},
   "outputs": [
    {
     "data": {
      "text/plain": [
       "Part_Time_Job\n",
       "No     504\n",
       "Yes    453\n",
       "Name: count, dtype: int64"
      ]
     },
     "execution_count": 14,
     "metadata": {},
     "output_type": "execute_result"
    }
   ],
   "source": [
    "dataset['Part_Time_Job'].value_counts()"
   ]
  },
  {
   "cell_type": "code",
   "execution_count": 15,
   "id": "a61d141b-6145-467c-a2a9-a9c38056e519",
   "metadata": {},
   "outputs": [],
   "source": [
    "# Fill missing Part_Time_Job with most frequent value\n",
    "dataset['Part_Time_Job'] = dataset['Part_Time_Job'].fillna(dataset['Part_Time_Job'].mode()[0])"
   ]
  },
  {
   "cell_type": "code",
   "execution_count": 16,
   "id": "9fbf8306-8635-4548-b76b-ed3f7b1b61b7",
   "metadata": {},
   "outputs": [],
   "source": [
    "# Use median to replace null Commute_Time values for balance\n",
    "dataset['Commute_Time'] = dataset['Commute_Time'].fillna(dataset['Commute_Time'].median())"
   ]
  },
  {
   "cell_type": "code",
   "execution_count": 17,
   "id": "75550980-4aab-4fb1-b786-6e417bcee084",
   "metadata": {},
   "outputs": [
    {
     "data": {
      "text/plain": [
       "Lab_Equipment_Access\n",
       "Good       363\n",
       "Average    307\n",
       "Poor       289\n",
       "Name: count, dtype: int64"
      ]
     },
     "execution_count": 17,
     "metadata": {},
     "output_type": "execute_result"
    }
   ],
   "source": [
    "dataset['Lab_Equipment_Access'].value_counts()"
   ]
  },
  {
   "cell_type": "code",
   "execution_count": 18,
   "id": "f9c717b0-6fc5-4f88-b25b-2068ef574ba8",
   "metadata": {},
   "outputs": [],
   "source": [
    "# Fill Lab_Equipment_Access with most frequent value\n",
    "dataset['Lab_Equipment_Access'] = dataset['Lab_Equipment_Access'].fillna(dataset['Lab_Equipment_Access'].mode()[0])"
   ]
  },
  {
   "cell_type": "code",
   "execution_count": 19,
   "id": "594a5226-2e93-4b98-b3d7-7f786d9b01fe",
   "metadata": {},
   "outputs": [
    {
     "data": {
      "text/plain": [
       "Faculty_Satisfaction\n",
       "1.0    206\n",
       "5.0    196\n",
       "3.0    190\n",
       "2.0    185\n",
       "4.0    177\n",
       "Name: count, dtype: int64"
      ]
     },
     "execution_count": 19,
     "metadata": {},
     "output_type": "execute_result"
    }
   ],
   "source": [
    "dataset['Faculty_Satisfaction'].value_counts()"
   ]
  },
  {
   "cell_type": "code",
   "execution_count": 20,
   "id": "7e9f4f30-7b9b-4ec9-8750-dfd0fdf71683",
   "metadata": {},
   "outputs": [],
   "source": [
    "# Fill Faculty_Satisfaction with most frequent value\n",
    "dataset['Faculty_Satisfaction'] = dataset['Faculty_Satisfaction'].fillna(dataset['Faculty_Satisfaction'].mode()[0])"
   ]
  },
  {
   "cell_type": "code",
   "execution_count": 21,
   "id": "d001ff44-b69f-4436-8415-d03f9b531ec3",
   "metadata": {},
   "outputs": [
    {
     "data": {
      "text/plain": [
       "Student_ID                0\n",
       "Gender                    0\n",
       "Age                       0\n",
       "Nationality               0\n",
       "Province                  0\n",
       "Program_Level             0\n",
       "Department                0\n",
       "Year_of_Study             0\n",
       "GPA                       0\n",
       "Attendance_Rate           0\n",
       "Mental_Health_Score       0\n",
       "Stress_Level              0\n",
       "Sleep_Hours               0\n",
       "Study_Hours               0\n",
       "Monthly_Expenses          0\n",
       "Scholarship_Status        0\n",
       "Part_Time_Job             0\n",
       "Hostel_Resident           0\n",
       "Commute_Time              0\n",
       "Transport_Mode            0\n",
       "Internet_Access           0\n",
       "Library_Usage             0\n",
       "Canteen_Quality_Rating    0\n",
       "Lab_Equipment_Access      0\n",
       "Faculty_Satisfaction      0\n",
       "dtype: int64"
      ]
     },
     "execution_count": 21,
     "metadata": {},
     "output_type": "execute_result"
    }
   ],
   "source": [
    "dataset.isnull().sum()"
   ]
  },
  {
   "cell_type": "code",
   "execution_count": 22,
   "id": "2802aad0-a93f-4295-b163-abf3570de34b",
   "metadata": {},
   "outputs": [],
   "source": [
    "# Select all object type columns except Student_ID \n",
    "str_col = dataset.select_dtypes([\"object\"])\n",
    "str_col = [i for i in str_col if i != \"Student_ID\"]"
   ]
  },
  {
   "cell_type": "code",
   "execution_count": 23,
   "id": "a9164de6-b2e3-4577-ba6b-4a1c0a85075d",
   "metadata": {},
   "outputs": [
    {
     "data": {
      "text/plain": [
       "['Gender',\n",
       " 'Nationality',\n",
       " 'Province',\n",
       " 'Program_Level',\n",
       " 'Department',\n",
       " 'Scholarship_Status',\n",
       " 'Part_Time_Job',\n",
       " 'Hostel_Resident',\n",
       " 'Transport_Mode',\n",
       " 'Internet_Access',\n",
       " 'Lab_Equipment_Access']"
      ]
     },
     "execution_count": 23,
     "metadata": {},
     "output_type": "execute_result"
    }
   ],
   "source": [
    "str_col"
   ]
  },
  {
   "cell_type": "code",
   "execution_count": 24,
   "id": "4c25874c-47da-4618-a25f-c359c44fb98e",
   "metadata": {},
   "outputs": [
    {
     "name": "stdout",
     "output_type": "stream",
     "text": [
      "\n",
      "\n",
      "Uniqes values in columns 'Gender' :\n",
      "\n",
      "['Female' 'Male' 'Femle']\n",
      "_________________________\n",
      "\n",
      "\n",
      "Uniqes values in columns 'Nationality' :\n",
      "\n",
      "['Afghan' 'Indian' 'Bangladeshi' 'Pakistani']\n",
      "_________________________\n",
      "\n",
      "\n",
      "Uniqes values in columns 'Province' :\n",
      "\n",
      "['Kabul' 'Kerala' 'Dhaka' 'Sindh' 'Balochistan' 'Delhi' 'Herat' 'Punjab'\n",
      " 'KPK' 'Chittagong' 'Sinnd']\n",
      "_________________________\n",
      "\n",
      "\n",
      "Uniqes values in columns 'Program_Level' :\n",
      "\n",
      "['Masters' 'Undergraduate' 'PhD']\n",
      "_________________________\n",
      "\n",
      "\n",
      "Uniqes values in columns 'Department' :\n",
      "\n",
      "['Psychology' 'Electrical Engineering' 'Mathematics' 'Biology'\n",
      " 'Computer Science' 'Business' 'Compuer Science']\n",
      "_________________________\n",
      "\n",
      "\n",
      "Uniqes values in columns 'Scholarship_Status' :\n",
      "\n",
      "['Yes' 'No']\n",
      "_________________________\n",
      "\n",
      "\n",
      "Uniqes values in columns 'Part_Time_Job' :\n",
      "\n",
      "['Yes' 'No']\n",
      "_________________________\n",
      "\n",
      "\n",
      "Uniqes values in columns 'Hostel_Resident' :\n",
      "\n",
      "['No' 'Yes']\n",
      "_________________________\n",
      "\n",
      "\n",
      "Uniqes values in columns 'Transport_Mode' :\n",
      "\n",
      "['Bus' 'Bike' 'Walk' 'Car' 'ricksha']\n",
      "_________________________\n",
      "\n",
      "\n",
      "Uniqes values in columns 'Internet_Access' :\n",
      "\n",
      "['No' 'Yes']\n",
      "_________________________\n",
      "\n",
      "\n",
      "Uniqes values in columns 'Lab_Equipment_Access' :\n",
      "\n",
      "['Good' 'Average' 'Poor']\n",
      "_________________________\n"
     ]
    }
   ],
   "source": [
    "# Loop through string columns to check unique data values\n",
    "for i in str_col:\n",
    "    print(f\"\\n\\nUniqes values in columns '{i}' :\\n\")\n",
    "    print(dataset[i].unique())\n",
    "    print(f\"_________________________\")"
   ]
  },
  {
   "cell_type": "code",
   "execution_count": 25,
   "id": "958365d8-2426-4c99-b7c6-8257315604ca",
   "metadata": {},
   "outputs": [],
   "source": [
    "# Correct spelling mistake in 'Province' column\n",
    "dataset['Province'] = dataset['Province'].replace({'Sinnd':\"Sindh\"})"
   ]
  },
  {
   "cell_type": "code",
   "execution_count": 26,
   "id": "9378509a-c7d7-4d14-b02c-fca44b62483a",
   "metadata": {},
   "outputs": [],
   "source": [
    "# Correct spelling mistake in 'Department' column\n",
    "dataset['Department'] = dataset['Department'].replace({'Compuer Science':'Computer Science'})"
   ]
  },
  {
   "cell_type": "code",
   "execution_count": 27,
   "id": "4a3cc708-f41e-4039-bd4f-c7e9016d8df9",
   "metadata": {},
   "outputs": [
    {
     "data": {
      "text/plain": [
       "Province\n",
       "Dhaka          145\n",
       "Punjab         141\n",
       "Kabul          134\n",
       "Herat          132\n",
       "Chittagong      99\n",
       "Kerala          72\n",
       "KPK             66\n",
       "Sindh           65\n",
       "Delhi           60\n",
       "Balochistan     59\n",
       "Name: count, dtype: int64"
      ]
     },
     "execution_count": 27,
     "metadata": {},
     "output_type": "execute_result"
    }
   ],
   "source": [
    "dataset['Province'].value_counts()"
   ]
  },
  {
   "cell_type": "code",
   "execution_count": 28,
   "id": "026920d7-ec95-48bc-9d8b-2c801b5f5382",
   "metadata": {},
   "outputs": [
    {
     "data": {
      "text/plain": [
       "Department\n",
       "Computer Science          176\n",
       "Psychology                170\n",
       "Biology                   169\n",
       "Business                  155\n",
       "Mathematics               154\n",
       "Electrical Engineering    149\n",
       "Name: count, dtype: int64"
      ]
     },
     "execution_count": 28,
     "metadata": {},
     "output_type": "execute_result"
    }
   ],
   "source": [
    "dataset['Department'].value_counts()"
   ]
  },
  {
   "cell_type": "code",
   "execution_count": 29,
   "id": "1d28e70b-dbf8-4cf3-a218-fd689cc5f3b7",
   "metadata": {},
   "outputs": [],
   "source": [
    "# Select all numeric columns\n",
    "numric_col = dataset.select_dtypes([\"int64\",\"float64\"]).columns"
   ]
  },
  {
   "cell_type": "code",
   "execution_count": 30,
   "id": "30bf481b-1a03-4950-a591-00234622afc3",
   "metadata": {},
   "outputs": [
    {
     "name": "stdout",
     "output_type": "stream",
     "text": [
      "Age                      -0.027157\n",
      "Year_of_Study             0.068012\n",
      "GPA                       0.095907\n",
      "Attendance_Rate           0.010807\n",
      "Mental_Health_Score      -0.051201\n",
      "Stress_Level              0.032387\n",
      "Sleep_Hours               0.074159\n",
      "Study_Hours               0.074772\n",
      "Monthly_Expenses          0.247699\n",
      "Commute_Time              0.009317\n",
      "Library_Usage            -0.069239\n",
      "Canteen_Quality_Rating    0.077535\n",
      "Faculty_Satisfaction      0.059521\n",
      "dtype: float64\n"
     ]
    }
   ],
   "source": [
    "# Check skewness of numeric columns\n",
    "print(dataset[numric_col].skew())"
   ]
  },
  {
   "cell_type": "code",
   "execution_count": 31,
   "id": "0f2310ed-38ad-4237-80e8-1dff1bb76571",
   "metadata": {},
   "outputs": [
    {
     "data": {
      "image/png": "[encoded data removed]",
      "text/plain": [
       "<Figure size 1200x2200 with 27 Axes>"
      ]
     },
     "metadata": {},
     "output_type": "display_data"
    }
   ],
   "source": [
    "# Create boxplots for all columns to detect outliers\n",
    "dataset.plot(\n",
    "    kind = \"box\",\n",
    "    subplots = True,\n",
    "    layout = ((len(dataset.columns)//3)+1,3),\n",
    "    figsize = (12,22)\n",
    ")\n",
    "plt.tight_layout()\n",
    "plt.show()"
   ]
  },
  {
   "cell_type": "code",
   "execution_count": 32,
   "id": "b0d7c3a4-e84c-4e33-af0e-910569aaf03a",
   "metadata": {},
   "outputs": [
    {
     "data": {
      "image/png": "[encoded data removed]",
      "text/plain": [
       "<Figure size 400x300 with 1 Axes>"
      ]
     },
     "metadata": {},
     "output_type": "display_data"
    },
    {
     "data": {
      "image/png": "[encoded data removed]",
      "text/plain": [
       "<Figure size 400x300 with 1 Axes>"
      ]
     },
     "metadata": {},
     "output_type": "display_data"
    },
    {
     "data": {
      "image/png": "[encoded data removed]",
      "text/plain": [
       "<Figure size 400x300 with 1 Axes>"
      ]
     },
     "metadata": {},
     "output_type": "display_data"
    }
   ],
   "source": [
    "# Show data spread and shape for key numeric features using plot histogram\n",
    "cols = [\"GPA\",\"Monthly_Expenses\",\"Sleep_Hours\"]\n",
    "for i in cols:\n",
    "    plt.figure(figsize = (4,3))\n",
    "    sns.histplot(x = i, data=dataset, kde=True)\n",
    "    plt.title(f\"Distribution of {i}\")\n",
    "    plt.show()"
   ]
  },
  {
   "cell_type": "code",
   "execution_count": 33,
   "id": "b4cd2a8c-0a2d-4efc-8710-9b8fe22c4491",
   "metadata": {},
   "outputs": [
    {
     "data": {
      "text/plain": [
       "(973, 25)"
      ]
     },
     "execution_count": 33,
     "metadata": {},
     "output_type": "execute_result"
    }
   ],
   "source": [
    "dataset.shape"
   ]
  },
  {
   "cell_type": "code",
   "execution_count": 34,
   "id": "0d8596c1-7595-4a47-89a2-e50904d4b73d",
   "metadata": {},
   "outputs": [],
   "source": [
    "from scipy import  stats"
   ]
  },
  {
   "cell_type": "code",
   "execution_count": 35,
   "id": "b83840e9-79cc-4743-9b7b-63990f623bec",
   "metadata": {},
   "outputs": [],
   "source": [
    "# Select columns to check for outliers\n",
    "oulier_col = dataset[[\"GPA\",\"Monthly_Expenses\",\"Sleep_Hours\"]]"
   ]
  },
  {
   "cell_type": "code",
   "execution_count": 36,
   "id": "80442b35-2a4a-470c-a12f-1411e74236b1",
   "metadata": {},
   "outputs": [],
   "source": [
    "# Filter out rows considered extreme outliers using Z_Score method\n",
    "z_score = np.abs(stats.zscore(oulier_col))\n",
    "dataset = dataset[(z_score < 3).all(axis=1)]"
   ]
  },
  {
   "cell_type": "code",
   "execution_count": 37,
   "id": "83d7b128-8017-4d72-96a9-cc6ad1210c49",
   "metadata": {},
   "outputs": [
    {
     "data": {
      "image/png": "[encoded data removed]",
      "text/plain": [
       "<Figure size 400x300 with 1 Axes>"
      ]
     },
     "metadata": {},
     "output_type": "display_data"
    },
    {
     "data": {
      "image/png": "[encoded data removed]",
      "text/plain": [
       "<Figure size 400x300 with 1 Axes>"
      ]
     },
     "metadata": {},
     "output_type": "display_data"
    },
    {
     "data": {
      "image/png": "[encoded data removed]",
      "text/plain": [
       "<Figure size 400x300 with 1 Axes>"
      ]
     },
     "metadata": {},
     "output_type": "display_data"
    }
   ],
   "source": [
    "# Visualize cleaned data after removing outliers\n",
    "check = [\"GPA\",\"Monthly_Expenses\",\"Sleep_Hours\"]\n",
    "for i in check:\n",
    "    plt.figure(figsize = (4,3))\n",
    "    sns.histplot(x = i, data=dataset, kde=True)\n",
    "    plt.title(f\"Distribution of {i}\")\n",
    "    plt.show()"
   ]
  },
  {
   "cell_type": "code",
   "execution_count": 38,
   "id": "3cc2b3fb-a921-4960-9af3-b01b7af316c0",
   "metadata": {},
   "outputs": [],
   "source": [
    "# Select columns for label encoding \n",
    "label_coder = dataset[['Lab_Equipment_Access','Transport_Mode','Department','Program_Level','Province','Nationality']]\n",
    "get_dummies_code = ['Gender', 'Scholarship_Status', 'Part_Time_Job','Hostel_Resident', 'Internet_Access']"
   ]
  },
  {
   "cell_type": "code",
   "execution_count": 39,
   "id": "f2b153da-eb94-4291-972d-1fb329da33f2",
   "metadata": {},
   "outputs": [],
   "source": [
    "# Load LabelEncoder from scikit-learn \n",
    "from sklearn.preprocessing import LabelEncoder"
   ]
  },
  {
   "cell_type": "code",
   "execution_count": 40,
   "id": "9ed63e80-74f8-45c4-9219-8021b16df6c2",
   "metadata": {},
   "outputs": [],
   "source": [
    "# Apply LabelEncoder to selected categorical columns\n",
    "le = LabelEncoder()\n",
    "for i in label_coder:\n",
    "    dataset.loc[:, i] = le.fit_transform(dataset[i])"
   ]
  },
  {
   "cell_type": "code",
   "execution_count": 41,
   "id": "c7c487ca-4557-48f1-887b-ee8796373a5f",
   "metadata": {},
   "outputs": [],
   "source": [
    "# Apply one-hot encoding to selected columns \n",
    "dataset = pd.get_dummies(dataset, columns=get_dummies_code, drop_first=True)"
   ]
  },
  {
   "cell_type": "code",
   "execution_count": 42,
   "id": "54090450-0fa1-453e-93a7-2dc1a6071ee0",
   "metadata": {},
   "outputs": [],
   "source": [
    "# Select column for scaling\n",
    "mon_exp = dataset[['Monthly_Expenses']]"
   ]
  },
  {
   "cell_type": "code",
   "execution_count": 43,
   "id": "982de818-d66d-43eb-b062-fa8458b01e55",
   "metadata": {},
   "outputs": [],
   "source": [
    "# Load StandardScaler from scikit-learn\n",
    "from sklearn.preprocessing import StandardScaler"
   ]
  },
  {
   "cell_type": "code",
   "execution_count": 44,
   "id": "364b0b60-e22f-46b7-9d32-a81c210d46bc",
   "metadata": {},
   "outputs": [],
   "source": [
    "# Apply StandardScaler to selected column\n",
    "ss = StandardScaler()\n",
    "dataset['Monthly_Expenses'] = ss.fit_transform(mon_exp)"
   ]
  },
  {
   "cell_type": "code",
   "execution_count": 45,
   "id": "224f14d6-4dd5-46f6-9fd4-f218e5f774ad",
   "metadata": {},
   "outputs": [
    {
     "data": {
      "text/html": [
       "<div>\n",
       "<style scoped>\n",
       "    .dataframe tbody tr th:only-of-type {\n",
       "        vertical-align: middle;\n",
       "    }\n",
       "\n",
       "    .dataframe tbody tr th {\n",
       "        vertical-align: top;\n",
       "    }\n",
       "\n",
       "    .dataframe thead th {\n",
       "        text-align: right;\n",
       "    }\n",
       "</style>\n",
       "<table border=\"1\" class=\"dataframe\">\n",
       "  <thead>\n",
       "    <tr style=\"text-align: right;\">\n",
       "      <th></th>\n",
       "      <th>Student_ID</th>\n",
       "      <th>Age</th>\n",
       "      <th>Nationality</th>\n",
       "      <th>Province</th>\n",
       "      <th>Program_Level</th>\n",
       "      <th>Department</th>\n",
       "      <th>Year_of_Study</th>\n",
       "      <th>GPA</th>\n",
       "      <th>Attendance_Rate</th>\n",
       "      <th>Mental_Health_Score</th>\n",
       "      <th>...</th>\n",
       "      <th>Library_Usage</th>\n",
       "      <th>Canteen_Quality_Rating</th>\n",
       "      <th>Lab_Equipment_Access</th>\n",
       "      <th>Faculty_Satisfaction</th>\n",
       "      <th>Gender_Femle</th>\n",
       "      <th>Gender_Male</th>\n",
       "      <th>Scholarship_Status_Yes</th>\n",
       "      <th>Part_Time_Job_Yes</th>\n",
       "      <th>Hostel_Resident_Yes</th>\n",
       "      <th>Internet_Access_Yes</th>\n",
       "    </tr>\n",
       "  </thead>\n",
       "  <tbody>\n",
       "    <tr>\n",
       "      <th>0</th>\n",
       "      <td>PSY0001</td>\n",
       "      <td>23</td>\n",
       "      <td>0</td>\n",
       "      <td>6</td>\n",
       "      <td>0</td>\n",
       "      <td>5</td>\n",
       "      <td>1</td>\n",
       "      <td>3.18</td>\n",
       "      <td>92.5</td>\n",
       "      <td>5</td>\n",
       "      <td>...</td>\n",
       "      <td>3</td>\n",
       "      <td>3</td>\n",
       "      <td>1</td>\n",
       "      <td>5.0</td>\n",
       "      <td>False</td>\n",
       "      <td>False</td>\n",
       "      <td>True</td>\n",
       "      <td>True</td>\n",
       "      <td>False</td>\n",
       "      <td>False</td>\n",
       "    </tr>\n",
       "    <tr>\n",
       "      <th>1</th>\n",
       "      <td>ELE0002</td>\n",
       "      <td>20</td>\n",
       "      <td>2</td>\n",
       "      <td>7</td>\n",
       "      <td>2</td>\n",
       "      <td>3</td>\n",
       "      <td>4</td>\n",
       "      <td>2.78</td>\n",
       "      <td>68.1</td>\n",
       "      <td>9</td>\n",
       "      <td>...</td>\n",
       "      <td>4</td>\n",
       "      <td>3</td>\n",
       "      <td>1</td>\n",
       "      <td>4.0</td>\n",
       "      <td>False</td>\n",
       "      <td>False</td>\n",
       "      <td>True</td>\n",
       "      <td>False</td>\n",
       "      <td>False</td>\n",
       "      <td>False</td>\n",
       "    </tr>\n",
       "    <tr>\n",
       "      <th>2</th>\n",
       "      <td>ELE0003</td>\n",
       "      <td>24</td>\n",
       "      <td>1</td>\n",
       "      <td>3</td>\n",
       "      <td>2</td>\n",
       "      <td>3</td>\n",
       "      <td>3</td>\n",
       "      <td>3.79</td>\n",
       "      <td>73.4</td>\n",
       "      <td>7</td>\n",
       "      <td>...</td>\n",
       "      <td>5</td>\n",
       "      <td>2</td>\n",
       "      <td>0</td>\n",
       "      <td>5.0</td>\n",
       "      <td>False</td>\n",
       "      <td>False</td>\n",
       "      <td>True</td>\n",
       "      <td>False</td>\n",
       "      <td>False</td>\n",
       "      <td>True</td>\n",
       "    </tr>\n",
       "    <tr>\n",
       "      <th>3</th>\n",
       "      <td>MAT0004</td>\n",
       "      <td>19</td>\n",
       "      <td>0</td>\n",
       "      <td>6</td>\n",
       "      <td>1</td>\n",
       "      <td>4</td>\n",
       "      <td>4</td>\n",
       "      <td>3.08</td>\n",
       "      <td>83.1</td>\n",
       "      <td>6</td>\n",
       "      <td>...</td>\n",
       "      <td>3</td>\n",
       "      <td>3</td>\n",
       "      <td>2</td>\n",
       "      <td>3.0</td>\n",
       "      <td>False</td>\n",
       "      <td>False</td>\n",
       "      <td>True</td>\n",
       "      <td>True</td>\n",
       "      <td>True</td>\n",
       "      <td>False</td>\n",
       "    </tr>\n",
       "    <tr>\n",
       "      <th>4</th>\n",
       "      <td>BIO0005</td>\n",
       "      <td>22</td>\n",
       "      <td>2</td>\n",
       "      <td>7</td>\n",
       "      <td>0</td>\n",
       "      <td>0</td>\n",
       "      <td>2</td>\n",
       "      <td>3.27</td>\n",
       "      <td>94.6</td>\n",
       "      <td>6</td>\n",
       "      <td>...</td>\n",
       "      <td>1</td>\n",
       "      <td>4</td>\n",
       "      <td>1</td>\n",
       "      <td>2.0</td>\n",
       "      <td>False</td>\n",
       "      <td>True</td>\n",
       "      <td>False</td>\n",
       "      <td>False</td>\n",
       "      <td>False</td>\n",
       "      <td>True</td>\n",
       "    </tr>\n",
       "  </tbody>\n",
       "</table>\n",
       "<p>5 rows × 26 columns</p>\n",
       "</div>"
      ],
      "text/plain": [
       "  Student_ID  Age Nationality Province Program_Level Department  \\\n",
       "0    PSY0001   23           0        6             0          5   \n",
       "1    ELE0002   20           2        7             2          3   \n",
       "2    ELE0003   24           1        3             2          3   \n",
       "3    MAT0004   19           0        6             1          4   \n",
       "4    BIO0005   22           2        7             0          0   \n",
       "\n",
       "   Year_of_Study   GPA  Attendance_Rate  Mental_Health_Score  ...  \\\n",
       "0              1  3.18             92.5                    5  ...   \n",
       "1              4  2.78             68.1                    9  ...   \n",
       "2              3  3.79             73.4                    7  ...   \n",
       "3              4  3.08             83.1                    6  ...   \n",
       "4              2  3.27             94.6                    6  ...   \n",
       "\n",
       "   Library_Usage  Canteen_Quality_Rating  Lab_Equipment_Access  \\\n",
       "0              3                       3                     1   \n",
       "1              4                       3                     1   \n",
       "2              5                       2                     0   \n",
       "3              3                       3                     2   \n",
       "4              1                       4                     1   \n",
       "\n",
       "   Faculty_Satisfaction  Gender_Femle Gender_Male  Scholarship_Status_Yes  \\\n",
       "0                   5.0         False       False                    True   \n",
       "1                   4.0         False       False                    True   \n",
       "2                   5.0         False       False                    True   \n",
       "3                   3.0         False       False                    True   \n",
       "4                   2.0         False        True                   False   \n",
       "\n",
       "   Part_Time_Job_Yes Hostel_Resident_Yes  Internet_Access_Yes  \n",
       "0               True               False                False  \n",
       "1              False               False                False  \n",
       "2              False               False                 True  \n",
       "3               True                True                False  \n",
       "4              False               False                 True  \n",
       "\n",
       "[5 rows x 26 columns]"
      ]
     },
     "execution_count": 45,
     "metadata": {},
     "output_type": "execute_result"
    }
   ],
   "source": [
    "dataset.head()"
   ]
  },
  {
   "cell_type": "code",
   "execution_count": 47,
   "id": "81c0d23a-9f12-4fa1-bc32-eb71b8f70246",
   "metadata": {},
   "outputs": [
    {
     "data": {
      "text/plain": [
       "0      0.743012\n",
       "1      0.182572\n",
       "2     -0.052448\n",
       "3      1.215588\n",
       "4      1.584478\n",
       "         ...   \n",
       "994   -0.965880\n",
       "995   -0.512812\n",
       "996   -0.963038\n",
       "998   -0.435701\n",
       "999   -0.527175\n",
       "Name: Monthly_Expenses, Length: 967, dtype: float64"
      ]
     },
     "execution_count": 47,
     "metadata": {},
     "output_type": "execute_result"
    }
   ],
   "source": [
    "dataset['Monthly_Expenses']"
   ]
  },
  {
   "cell_type": "code",
   "execution_count": 46,
   "id": "cf4ce6ba-a300-4e5d-94c0-ab1fa09388f1",
   "metadata": {},
   "outputs": [],
   "source": [
    "# Drop Student_ID because it's not useful for prediction \n",
    "dataset.drop([\"Student_ID\"], axis=1, inplace=True)"
   ]
  },
  {
   "cell_type": "code",
   "execution_count": 48,
   "id": "9c9c5a20-6f03-42b6-81ca-220d7c83723a",
   "metadata": {},
   "outputs": [
    {
     "data": {
      "text/html": [
       "<div>\n",
       "<style scoped>\n",
       "    .dataframe tbody tr th:only-of-type {\n",
       "        vertical-align: middle;\n",
       "    }\n",
       "\n",
       "    .dataframe tbody tr th {\n",
       "        vertical-align: top;\n",
       "    }\n",
       "\n",
       "    .dataframe thead th {\n",
       "        text-align: right;\n",
       "    }\n",
       "</style>\n",
       "<table border=\"1\" class=\"dataframe\">\n",
       "  <thead>\n",
       "    <tr style=\"text-align: right;\">\n",
       "      <th></th>\n",
       "      <th>Age</th>\n",
       "      <th>Nationality</th>\n",
       "      <th>Province</th>\n",
       "      <th>Program_Level</th>\n",
       "      <th>Department</th>\n",
       "      <th>Year_of_Study</th>\n",
       "      <th>GPA</th>\n",
       "      <th>Attendance_Rate</th>\n",
       "      <th>Mental_Health_Score</th>\n",
       "      <th>Stress_Level</th>\n",
       "      <th>...</th>\n",
       "      <th>Library_Usage</th>\n",
       "      <th>Canteen_Quality_Rating</th>\n",
       "      <th>Lab_Equipment_Access</th>\n",
       "      <th>Faculty_Satisfaction</th>\n",
       "      <th>Gender_Femle</th>\n",
       "      <th>Gender_Male</th>\n",
       "      <th>Scholarship_Status_Yes</th>\n",
       "      <th>Part_Time_Job_Yes</th>\n",
       "      <th>Hostel_Resident_Yes</th>\n",
       "      <th>Internet_Access_Yes</th>\n",
       "    </tr>\n",
       "  </thead>\n",
       "  <tbody>\n",
       "    <tr>\n",
       "      <th>0</th>\n",
       "      <td>23</td>\n",
       "      <td>0</td>\n",
       "      <td>6</td>\n",
       "      <td>0</td>\n",
       "      <td>5</td>\n",
       "      <td>1</td>\n",
       "      <td>3.18</td>\n",
       "      <td>92.5</td>\n",
       "      <td>5</td>\n",
       "      <td>6</td>\n",
       "      <td>...</td>\n",
       "      <td>3</td>\n",
       "      <td>3</td>\n",
       "      <td>1</td>\n",
       "      <td>5.0</td>\n",
       "      <td>False</td>\n",
       "      <td>False</td>\n",
       "      <td>True</td>\n",
       "      <td>True</td>\n",
       "      <td>False</td>\n",
       "      <td>False</td>\n",
       "    </tr>\n",
       "    <tr>\n",
       "      <th>1</th>\n",
       "      <td>20</td>\n",
       "      <td>2</td>\n",
       "      <td>7</td>\n",
       "      <td>2</td>\n",
       "      <td>3</td>\n",
       "      <td>4</td>\n",
       "      <td>2.78</td>\n",
       "      <td>68.1</td>\n",
       "      <td>9</td>\n",
       "      <td>5</td>\n",
       "      <td>...</td>\n",
       "      <td>4</td>\n",
       "      <td>3</td>\n",
       "      <td>1</td>\n",
       "      <td>4.0</td>\n",
       "      <td>False</td>\n",
       "      <td>False</td>\n",
       "      <td>True</td>\n",
       "      <td>False</td>\n",
       "      <td>False</td>\n",
       "      <td>False</td>\n",
       "    </tr>\n",
       "    <tr>\n",
       "      <th>2</th>\n",
       "      <td>24</td>\n",
       "      <td>1</td>\n",
       "      <td>3</td>\n",
       "      <td>2</td>\n",
       "      <td>3</td>\n",
       "      <td>3</td>\n",
       "      <td>3.79</td>\n",
       "      <td>73.4</td>\n",
       "      <td>7</td>\n",
       "      <td>4</td>\n",
       "      <td>...</td>\n",
       "      <td>5</td>\n",
       "      <td>2</td>\n",
       "      <td>0</td>\n",
       "      <td>5.0</td>\n",
       "      <td>False</td>\n",
       "      <td>False</td>\n",
       "      <td>True</td>\n",
       "      <td>False</td>\n",
       "      <td>False</td>\n",
       "      <td>True</td>\n",
       "    </tr>\n",
       "    <tr>\n",
       "      <th>3</th>\n",
       "      <td>19</td>\n",
       "      <td>0</td>\n",
       "      <td>6</td>\n",
       "      <td>1</td>\n",
       "      <td>4</td>\n",
       "      <td>4</td>\n",
       "      <td>3.08</td>\n",
       "      <td>83.1</td>\n",
       "      <td>6</td>\n",
       "      <td>10</td>\n",
       "      <td>...</td>\n",
       "      <td>3</td>\n",
       "      <td>3</td>\n",
       "      <td>2</td>\n",
       "      <td>3.0</td>\n",
       "      <td>False</td>\n",
       "      <td>False</td>\n",
       "      <td>True</td>\n",
       "      <td>True</td>\n",
       "      <td>True</td>\n",
       "      <td>False</td>\n",
       "    </tr>\n",
       "    <tr>\n",
       "      <th>4</th>\n",
       "      <td>22</td>\n",
       "      <td>2</td>\n",
       "      <td>7</td>\n",
       "      <td>0</td>\n",
       "      <td>0</td>\n",
       "      <td>2</td>\n",
       "      <td>3.27</td>\n",
       "      <td>94.6</td>\n",
       "      <td>6</td>\n",
       "      <td>10</td>\n",
       "      <td>...</td>\n",
       "      <td>1</td>\n",
       "      <td>4</td>\n",
       "      <td>1</td>\n",
       "      <td>2.0</td>\n",
       "      <td>False</td>\n",
       "      <td>True</td>\n",
       "      <td>False</td>\n",
       "      <td>False</td>\n",
       "      <td>False</td>\n",
       "      <td>True</td>\n",
       "    </tr>\n",
       "  </tbody>\n",
       "</table>\n",
       "<p>5 rows × 25 columns</p>\n",
       "</div>"
      ],
      "text/plain": [
       "   Age Nationality Province Program_Level Department  Year_of_Study   GPA  \\\n",
       "0   23           0        6             0          5              1  3.18   \n",
       "1   20           2        7             2          3              4  2.78   \n",
       "2   24           1        3             2          3              3  3.79   \n",
       "3   19           0        6             1          4              4  3.08   \n",
       "4   22           2        7             0          0              2  3.27   \n",
       "\n",
       "   Attendance_Rate  Mental_Health_Score  Stress_Level  ...  Library_Usage  \\\n",
       "0             92.5                    5             6  ...              3   \n",
       "1             68.1                    9             5  ...              4   \n",
       "2             73.4                    7             4  ...              5   \n",
       "3             83.1                    6            10  ...              3   \n",
       "4             94.6                    6            10  ...              1   \n",
       "\n",
       "   Canteen_Quality_Rating  Lab_Equipment_Access  Faculty_Satisfaction  \\\n",
       "0                       3                     1                   5.0   \n",
       "1                       3                     1                   4.0   \n",
       "2                       2                     0                   5.0   \n",
       "3                       3                     2                   3.0   \n",
       "4                       4                     1                   2.0   \n",
       "\n",
       "  Gender_Femle  Gender_Male  Scholarship_Status_Yes Part_Time_Job_Yes  \\\n",
       "0        False        False                    True              True   \n",
       "1        False        False                    True             False   \n",
       "2        False        False                    True             False   \n",
       "3        False        False                    True              True   \n",
       "4        False         True                   False             False   \n",
       "\n",
       "   Hostel_Resident_Yes  Internet_Access_Yes  \n",
       "0                False                False  \n",
       "1                False                False  \n",
       "2                False                 True  \n",
       "3                 True                False  \n",
       "4                False                 True  \n",
       "\n",
       "[5 rows x 25 columns]"
      ]
     },
     "execution_count": 48,
     "metadata": {},
     "output_type": "execute_result"
    }
   ],
   "source": [
    "dataset.head()"
   ]
  },
  {
   "cell_type": "code",
   "execution_count": null,
   "id": "1c094b24-6944-408c-a8d9-8a7693de010a",
   "metadata": {},
   "outputs": [],
   "source": []
  }
 ],
 "metadata": {
  "kernelspec": {
   "display_name": "Python 3 (ipykernel)",
   "language": "python",
   "name": "python3"
  },
  "language_info": {
   "codemirror_mode": {
    "name": "ipython",
    "version": 3
   },
   "file_extension": ".py",
   "mimetype": "text/x-python",
   "name": "python",
   "nbconvert_exporter": "python",
   "pygments_lexer": "ipython3",
   "version": "3.10.18"
  }
 },
 "nbformat": 4,
 "nbformat_minor": 5
}
